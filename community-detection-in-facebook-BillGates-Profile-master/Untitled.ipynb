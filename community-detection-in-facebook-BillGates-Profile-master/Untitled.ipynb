{
 "cells": [
  {
   "cell_type": "code",
   "execution_count": 116,
   "metadata": {
    "collapsed": true
   },
   "outputs": [],
   "source": [
    "from collections import Counter, defaultdict, deque\n",
    "import copy\n",
    "import math\n",
    "import networkx as nx\n",
    "import urllib.request"
   ]
  },
  {
   "cell_type": "code",
   "execution_count": 117,
   "metadata": {
    "collapsed": true
   },
   "outputs": [],
   "source": [
    "def example_graph():\n",
    "    \"\"\"\n",
    "    Create the example graph from class. Used for testing.\n",
    "    Do not modify.\n",
    "    \"\"\"\n",
    "    g = nx.Graph()\n",
    "    g.add_edges_from([('A', 'B'), ('A', 'C'), ('B', 'C'), ('B', 'D'), ('D', 'E'), ('D', 'F'), ('D', 'G'), ('E', 'F'), ('G', 'F')])\n",
    "    return g"
   ]
  },
  {
   "cell_type": "code",
   "execution_count": 118,
   "metadata": {
    "collapsed": false,
    "scrolled": true
   },
   "outputs": [],
   "source": [
    "def bfs(graph, root, max_depth):\n",
    "    \"\"\"\n",
    "    Perform breadth-first search to compute the shortest paths from a root node to all\n",
    "    other nodes in the graph. To reduce running time, the max_depth parameter ends\n",
    "    the search after the specified depth.\n",
    "    E.g., if max_depth=2, only paths of length 2 or less will be considered.\n",
    "    This means that nodes greather than max_depth distance from the root will not\n",
    "    appear in the result.\n",
    "    You may use these two classes to help with this implementation:\n",
    "      https://docs.python.org/3.5/library/collections.html#collections.defaultdict\n",
    "      https://docs.python.org/3.5/library/collections.html#collections.deque\n",
    "    Params:\n",
    "      graph.......A networkx Graph\n",
    "      root........The root node in the search graph (a string). We are computing\n",
    "                  shortest paths from this node to all others.\n",
    "      max_depth...An integer representing the maximum depth to search.\n",
    "    Returns:\n",
    "      node2distances...dict from each node to the length of the shortest path from\n",
    "                       the root node\n",
    "      node2num_paths...dict from each node to the number of shortest paths from the\n",
    "                       root node that pass through this node.\n",
    "      node2parents.....dict from each node to the list of its parents in the search\n",
    "                       tree\n",
    "    In the doctests below, we first try with max_depth=5, then max_depth=2.\n",
    "    >>> node2distances, node2num_paths, node2parents = bfs(example_graph(), 'E', 5)\n",
    "    >>> sorted(node2distances.items())\n",
    "    [('A', 3), ('B', 2), ('C', 3), ('D', 1), ('E', 0), ('F', 1), ('G', 2)]\n",
    "    >>> sorted(node2num_paths.items())\n",
    "    [('A', 1), ('B', 1), ('C', 1), ('D', 1), ('E', 1), ('F', 1), ('G', 2)]\n",
    "    >>> sorted((node, sorted(parents)) for node, parents in node2parents.items())\n",
    "    [('A', ['B']), ('B', ['D']), ('C', ['B']), ('D', ['E']), ('F', ['E']), ('G', ['D', 'F'])]\n",
    "    >>> node2distances, node2num_paths, node2parents = bfs(example_graph(), 'E', 2)\n",
    "    >>> sorted(node2distances.items())\n",
    "    [('B', 2), ('D', 1), ('E', 0), ('F', 1), ('G', 2)]\n",
    "    >>> sorted(node2num_paths.items())\n",
    "    [('B', 1), ('D', 1), ('E', 1), ('F', 1), ('G', 2)]\n",
    "    >>> sorted((node, sorted(parents)) for node, parents in node2parents.items())\n",
    "    [('B', ['D']), ('D', ['E']), ('F', ['E']), ('G', ['D', 'F'])]\n",
    "    \"\"\"\n",
    "    distance = {}\n",
    "    distance[root] = 0\n",
    "    path = {}\n",
    "    path[root] = 1\n",
    "    parent_dict ={}\n",
    "    \n",
    "    depth = 1\n",
    "    \n",
    "    to_process_node = deque()\n",
    "    process_node = deque()\n",
    "    process_node.append(root)\n",
    "    \n",
    "    n  =defaultdict()\n",
    "    for i in graph:\n",
    "        n[i]= graph.neighbors(i)\n",
    "\n",
    "  \n",
    "    while depth <= max_depth:\n",
    "        while len(process_node)>0:\n",
    "            parent = process_node.popleft()\n",
    "            for neighbor in n[parent]:\n",
    "                to_process_node.append(neighbor)\n",
    "                if neighbor not in distance.keys():\n",
    "                    distance[neighbor] = depth\n",
    "                    parent_dict[neighbor]=[parent]\n",
    "                elif neighbor in distance.keys() and distance[neighbor] == depth:\n",
    "                    parent_dict[neighbor].append(parent) \n",
    "                    \n",
    "        depth = depth +1\n",
    "        for m in to_process_node:\n",
    "            process_node.append(m)\n",
    "        to_process_node.clear()\n",
    "    \n",
    "    for i in parent_dict:\n",
    "        path[i] = len(parent_dict[i])\n",
    "    \n",
    "    return distance,path,parent_dict"
   ]
  },
  {
   "cell_type": "code",
   "execution_count": 136,
   "metadata": {
    "collapsed": true
   },
   "outputs": [],
   "source": [
    "node2distances, node2num_paths, node2parents = bfs(example_graph(), 'E', 5)"
   ]
  },
  {
   "cell_type": "code",
   "execution_count": 119,
   "metadata": {
    "collapsed": true
   },
   "outputs": [],
   "source": [
    "def complexity_of_bfs(V, E, K):\n",
    "    \"\"\"\n",
    "    If V is the number of vertices in a graph, E is the number of\n",
    "    edges, and K is the max_depth of our approximate breadth-first\n",
    "    search algorithm, then what is the *worst-case* run-time of\n",
    "    this algorithm? As usual in complexity analysis, you can ignore\n",
    "    any constant factors. E.g., if you think the answer is 2V * E + 3log(K),\n",
    "    you would return V * E + math.log(K)\n",
    "    >>> v = complexity_of_bfs(13, 23, 7)\n",
    "    >>> type(v) == int or type(v) == float\n",
    "    True\n",
    "    \"\"\"\n",
    "    ###TODO\n",
    "    return (V+E)*math.log(K)\n",
    "    pass"
   ]
  },
  {
   "cell_type": "code",
   "execution_count": 141,
   "metadata": {
    "collapsed": false
   },
   "outputs": [],
   "source": [
    "def bottom_up(root, node2distances, node2num_paths, node2parents):\n",
    "    \"\"\"\n",
    "    Compute the final step of the Girvan-Newman algorithm.\n",
    "    See p 352 From your text:\n",
    "    https://github.com/iit-cs579/main/blob/master/read/lru-10.pdf\n",
    "        The third and final step is to calculate for each edge e the sum\n",
    "        over all nodes Y of the fraction of shortest paths from the root\n",
    "        X to Y that go through e. This calculation involves computing this\n",
    "        sum for both nodes and edges, from the bottom. Each node other\n",
    "        than the root is given a credit of 1, representing the shortest\n",
    "        path to that node. This credit may be divided among nodes and\n",
    "        edges above, since there could be several different shortest paths\n",
    "        to the node. The rules for the calculation are as follows: ...\n",
    "    Params:\n",
    "      root.............The root node in the search graph (a string). We are computing\n",
    "                       shortest paths from this node to all others.\n",
    "      node2distances...dict from each node to the length of the shortest path from\n",
    "                       the root node\n",
    "      node2num_paths...dict from each node to the number of shortest paths from the\n",
    "                       root node that pass through this node.\n",
    "      node2parents.....dict from each node to the list of its parents in the search\n",
    "                       tree\n",
    "    Returns:\n",
    "      A dict mapping edges to credit value. Each key is a tuple of two strings\n",
    "      representing an edge (e.g., ('A', 'B')). Make sure each of these tuples\n",
    "      are sorted alphabetically (so, it's ('A', 'B'), not ('B', 'A')).\n",
    "      Any edges excluded from the results in bfs should also be exluded here.\n",
    "    >>> node2distances, node2num_paths, node2parents = bfs(example_graph(), 'E', 5)\n",
    "    >>> result = bottom_up('E', node2distances, node2num_paths, node2parents)\n",
    "    >>> sorted(result.items())\n",
    "    [(('A', 'B'), 1.0), (('B', 'C'), 1.0), (('B', 'D'), 3.0), (('D', 'E'), 4.5), (('D', 'G'), 0.5), (('E', 'F'), 1.5), (('F', 'G'), 0.5)]\n",
    "    \"\"\"\n",
    "    sortdis = sorted(node2distances.items(), key = lambda x: x[1], reverse = True)\n",
    "    node_credit = {}\n",
    "    edge_credit = {}\n",
    "    \n",
    "    \n",
    "    for i in sortdis:\n",
    "        if i[0] != root:\n",
    "            node_credit[i[0]] = 1\n",
    "        else:\n",
    "            node_credit[i[0]] = 0\n",
    "    \n",
    "    for i in sortdis:\n",
    "        if i[0] != root:\n",
    "            \n",
    "            credit = node_credit[i[0]]/node2num_paths[i[0]]\n",
    "            parent = node2parents[i[0]]\n",
    "\n",
    "            for j in parent:\n",
    "                node_credit[j] =node_credit[j] + credit\n",
    "    \n",
    "                edge = sorted((i[0],j))\n",
    "                edge_credit[tuple(edge)] = credit\n",
    "  \n",
    "    return edge_credit"
   ]
  },
  {
   "cell_type": "code",
   "execution_count": 142,
   "metadata": {
    "collapsed": false
   },
   "outputs": [
    {
     "data": {
      "text/plain": [
       "[(('A', 'B'), 1.0),\n",
       " (('B', 'C'), 1.0),\n",
       " (('B', 'D'), 3.0),\n",
       " (('D', 'E'), 4.5),\n",
       " (('D', 'G'), 0.5),\n",
       " (('E', 'F'), 1.5),\n",
       " (('F', 'G'), 0.5)]"
      ]
     },
     "execution_count": 142,
     "metadata": {},
     "output_type": "execute_result"
    }
   ],
   "source": [
    "node2distances, node2num_paths, node2parents = bfs(example_graph(), 'E', 3)\n",
    "result = bottom_up('E', node2distances, node2num_paths, node2parents)\n",
    "sorted(result.items())"
   ]
  },
  {
   "cell_type": "code",
   "execution_count": 143,
   "metadata": {
    "collapsed": false
   },
   "outputs": [],
   "source": [
    "\n",
    "\n",
    "def approximate_betweenness(graph, max_depth):\n",
    "    \n",
    "    \"\"\"\n",
    "    Compute the approximate betweenness of each edge, using max_depth to reduce\n",
    "    computation time in breadth-first search.\n",
    "    You should call the bfs and bottom_up functions defined above for each node\n",
    "    in the graph, and sum together the results. Be sure to divide by 2 at the\n",
    "    end to get the final betweenness.\n",
    "\n",
    "    Params:\n",
    "      graph.......A networkx Graph\n",
    "      max_depth...An integer representing the maximum depth to search.\n",
    "\n",
    "    Returns:\n",
    "      A dict mapping edges to betweenness. Each key is a tuple of two strings\n",
    "      representing an edge (e.g., ('A', 'B')). Make sure each of these tuples\n",
    "      are sorted alphabetically (so, it's ('A', 'B'), not ('B', 'A')).\n",
    "\n",
    "    >>> sorted(approximate_betweenness(example_graph(), 2).items())\n",
    "    [(('A', 'B'), 2.0), (('A', 'C'), 1.0), (('B', 'C'), 2.0), (('B', 'D'), 6.0), (('D', 'E'), 2.5), (('D', 'F'), 2.0), (('D', 'G'), 2.5), (('E', 'F'), 1.5), (('F', 'G'), 1.5)]\n",
    "    \n",
    "    \"\"\"\n",
    "    \n",
    "    bet = {}\n",
    "    for i in graph:\n",
    "        node2distances, node2num_paths, node2parents = bfs(graph, i,max_depth )\n",
    "        result = bottom_up(i, node2distances, node2num_paths, node2parents)\n",
    "        for j in result:\n",
    "            if j not in bet.keys():\n",
    "                bet[j] = result[j]/2\n",
    "            else:\n",
    "                bet[j] = bet[j] + (result[j]/2)\n",
    "    return bet"
   ]
  },
  {
   "cell_type": "code",
   "execution_count": 149,
   "metadata": {
    "collapsed": false
   },
   "outputs": [
    {
     "data": {
      "text/plain": [
       "[(('A', 'B'), 5.0),\n",
       " (('A', 'C'), 1.0),\n",
       " (('B', 'C'), 5.0),\n",
       " (('B', 'D'), 12.0),\n",
       " (('D', 'E'), 4.5),\n",
       " (('D', 'F'), 4.0),\n",
       " (('D', 'G'), 4.5),\n",
       " (('E', 'F'), 1.5),\n",
       " (('F', 'G'), 1.5)]"
      ]
     },
     "execution_count": 149,
     "metadata": {},
     "output_type": "execute_result"
    }
   ],
   "source": [
    "sorted(approximate_betweenness(example_graph(), 5).items())"
   ]
  },
  {
   "cell_type": "code",
   "execution_count": 144,
   "metadata": {
    "collapsed": false
   },
   "outputs": [],
   "source": [
    "def multi_sort(xx):\n",
    "    return sorted(sorted(xx, key=lambda x:(x[0],x[1])), key=lambda x:x[1],reverse = True)"
   ]
  },
  {
   "cell_type": "code",
   "execution_count": 145,
   "metadata": {
    "collapsed": false
   },
   "outputs": [],
   "source": [
    "def is_approximation_always_right():\n",
    "    \"\"\"\n",
    "    Look at the doctests for approximate betweenness. In this example, the\n",
    "    edge with the highest betweenness was ('B', 'D') for both cases (when\n",
    "    max_depth=5 and max_depth=2).\n",
    "\n",
    "    Consider an arbitrary graph G. For all max_depth > 1, will it always be\n",
    "    the case that the edge with the highest betweenness will be the same\n",
    "    using either approximate_betweenness verses the exact computation?\n",
    "    Answer this question below.\n",
    "\n",
    "    In this function, you just need to return either the string 'yes' or 'no'\n",
    "    (no need to do any actual computations here).\n",
    "    >>> s = is_approximation_always_right()\n",
    "    >>> type(s)\n",
    "    <class 'str'>\n",
    "    \"\"\"\n",
    "    ###TODO\n",
    "    g = example_graph()\n",
    "    result =  multi_sort(approximate_betweenness(g, 2).items())[0][0]\n",
    "    value = \"yes\"\n",
    "    for i in range(3,6):\n",
    "        temp = multi_sort(approximate_betweenness(g, i).items())[0][0]\n",
    "        if temp != result:\n",
    "            value = \"no\"\n",
    "    return value\n",
    "    pass"
   ]
  },
  {
   "cell_type": "code",
   "execution_count": 146,
   "metadata": {
    "collapsed": false
   },
   "outputs": [],
   "source": [
    "def partition_girvan_newman(graph, max_depth):\n",
    "    \"\"\"\n",
    "    Use your approximate_betweenness implementation to partition a graph.\n",
    "    Unlike in class, here you will not implement this recursively. Instead,\n",
    "    just remove edges until more than one component is created, then return\n",
    "    those components.\n",
    "    That is, compute the approximate betweenness of all edges, and remove\n",
    "    them until multiple comonents are created.\n",
    "\n",
    "    You only need to compute the betweenness once.\n",
    "    If there are ties in edge betweenness, break by edge name (e.g.,\n",
    "    (('A', 'B'), 1.0) comes before (('B', 'C'), 1.0)).\n",
    "\n",
    "    Note: the original graph variable should not be modified. Instead,\n",
    "    make a copy of the original graph prior to removing edges.\n",
    "    See the Graph.copy method https://networkx.github.io/documentation/development/reference/generated/networkx.Graph.copy.html\n",
    "    Params:\n",
    "      graph.......A networkx Graph\n",
    "      max_depth...An integer representing the maximum depth to search.\n",
    "    \n",
    "    Returns:\n",
    "      A list of networkx Graph objects, one per partition.\n",
    "    \n",
    "    >>> components = partition_girvan_newman(example_graph(), 5)\n",
    "    >>> components = sorted(components, key=lambda x: sorted(x.nodes())[0])\n",
    "    >>> sorted(components[0].nodes())\n",
    "    ['A', 'B', 'C']\n",
    "    >>> sorted(components[1].nodes())\n",
    "    ['D', 'E', 'F', 'G']\n",
    "    \"\"\"\n",
    "    ###TODO\n",
    "    cg = graph.copy();\n",
    "\n",
    "    bet = multi_sort(approximate_betweenness(cg,max_depth).items())\n",
    "    i = 0\n",
    "    while nx.number_connected_components(cg) <= 1:\n",
    "        cg.remove_edge(*bet[i][0])\n",
    "        i = i + 1\n",
    "\n",
    "    comp = [c for c in nx.connected_component_subgraphs(cg)]\n",
    "    return comp\n",
    "    pass "
   ]
  },
  {
   "cell_type": "code",
   "execution_count": 147,
   "metadata": {
    "collapsed": false
   },
   "outputs": [
    {
     "name": "stdout",
     "output_type": "stream",
     "text": [
      "['A', 'B', 'C']\n",
      "['D', 'E', 'F', 'G']\n"
     ]
    }
   ],
   "source": [
    "components = partition_girvan_newman(example_graph(), 5)\n",
    "components = sorted(components, key=lambda x: sorted(x.nodes())[0])\n",
    "print (sorted(components[0].nodes()))\n",
    "print (sorted(components[1].nodes()))"
   ]
  },
  {
   "cell_type": "code",
   "execution_count": 126,
   "metadata": {
    "collapsed": false
   },
   "outputs": [],
   "source": [
    "def get_subgraph(graph, min_degree):\n",
    "    \"\"\"Return a subgraph containing nodes whose degree is\n",
    "    greater than or equal to min_degree.\n",
    "    We'll use this in the main method to prune the original graph.\n",
    "\n",
    "    Params:\n",
    "      graph........a networkx graph\n",
    "      min_degree...degree threshold\n",
    "    Returns:\n",
    "      a networkx graph, filtered as defined above.\n",
    "\n",
    "    >>> subgraph = get_subgraph(example_graph(), 3)\n",
    "    >>> sorted(subgraph.nodes())\n",
    "    ['B', 'D', 'F']\n",
    "    >>> len(subgraph.edges())\n",
    "    2\n",
    "    \"\"\"\n",
    "    delete_nodes = []\n",
    "    for n in graph:\n",
    "        if graph.degree(n) < min_degree:\n",
    "            delete_nodes.append(n)\n",
    "    \n",
    "    graph.remove_nodes_from(delete_nodes)\n",
    "    return graph\n",
    "\n",
    "subgraph = get_subgraph(graph, 3)\n"
   ]
  },
  {
   "cell_type": "code",
   "execution_count": 127,
   "metadata": {
    "collapsed": false
   },
   "outputs": [],
   "source": [
    "def volume(nodes, graph):\n",
    "    \"\"\"\n",
    "    Compute the volume for a list of nodes, which\n",
    "    is the number of edges in `graph` with at least one end in\n",
    "    nodes.\n",
    "    Params:\n",
    "      nodes...a list of strings for the nodes to compute the volume of.\n",
    "      graph...a networkx graph\n",
    "\n",
    "    >>> volume(['A', 'B', 'C'], example_graph())\n",
    "    4\n",
    "    \"\"\"\n",
    "    ###TODO\n",
    "    return len(graph.edges(nodes))\n",
    "\n",
    "\n",
    "def cut(S, T, graph):\n",
    "    \"\"\"\n",
    "    Compute the cut-set of the cut (S,T), which is\n",
    "    the set of edges that have one endpoint in S and\n",
    "    the other in T.\n",
    "    Params:\n",
    "      S.......set of nodes in first subset\n",
    "      T.......set of nodes in second subset\n",
    "      graph...networkx graph\n",
    "    Returns:\n",
    "      An int representing the cut-set.\n",
    "\n",
    "    >>> cut(['A', 'B', 'C'], ['D', 'E', 'F', 'G'], example_graph())\n",
    "    1\n",
    "    \"\"\"\n",
    "    ###TODO\n",
    "    count = 0\n",
    "    for n in S:\n",
    "        for m in T:\n",
    "            if graph.has_edge(n,m):\n",
    "                count = count+1\n",
    "    return count\n",
    "\n",
    "\n",
    "def norm_cut(S, T, graph):\n",
    "    \"\"\"\n",
    "    The normalized cut value for the cut S/T. (See lec06.)\n",
    "    Params:\n",
    "      S.......set of nodes in first subset\n",
    "      T.......set of nodes in second subset\n",
    "      graph...networkx graph\n",
    "    Returns:\n",
    "      An float representing the normalized cut value\n",
    "\n",
    "    \"\"\"\n",
    "    ###TODO\n",
    "    ST_cut = cut(S,T,graph)\n",
    "    S_volume = volume(S,graph)\n",
    "    T_volume = volume(T,graph)\n",
    "    norm = (ST_cut*1.0/S_volume)+(ST_cut*1.0/T_volume)\n",
    "    return norm\n"
   ]
  },
  {
   "cell_type": "code",
   "execution_count": 128,
   "metadata": {
    "collapsed": true
   },
   "outputs": [],
   "source": [
    "def score_max_depths(graph, max_depths):\n",
    "    \"\"\"\n",
    "    In order to assess the quality of the approximate partitioning method\n",
    "    we've developed, we will run it with different values for max_depth\n",
    "    and see how it affects the norm_cut score of the resulting partitions.\n",
    "    Recall that smaller norm_cut scores correspond to better partitions.\n",
    "\n",
    "    Params:\n",
    "      graph........a networkx Graph\n",
    "      max_depths...a list of ints for the max_depth values to be passed\n",
    "                   to calls to partition_girvan_newman\n",
    "\n",
    "    Returns:\n",
    "      A list of (int, float) tuples representing the max_depth and the\n",
    "      norm_cut value obtained by the partitions returned by\n",
    "      partition_girvan_newman. See Log.txt for an example.\n",
    "    \"\"\"\n",
    "    ###TODO\n",
    "    norm_list =[]\n",
    "    node_set = set(graph.nodes()) \n",
    "    for depth in max_depths:\n",
    "        components = partition_girvan_newman(graph, depth)\n",
    "        norm_list.append((depth,norm_cut(components[0], components[1], graph)))\n",
    "    return norm_list\n",
    "            "
   ]
  },
  {
   "cell_type": "code",
   "execution_count": 129,
   "metadata": {
    "collapsed": true
   },
   "outputs": [],
   "source": [
    "def make_training_graph(graph, test_node, n):\n",
    "    \"\"\"\n",
    "    To make a training graph, we need to remove n edges from the graph.\n",
    "    As in lecture, we'll assume there is a test_node for which we will\n",
    "    remove some edges. Remove the edges to the first n neighbors of\n",
    "    test_node, where the neighbors are sorted alphabetically.\n",
    "    E.g., if 'A' has neighbors 'B' and 'C', and n=1, then the edge\n",
    "    ('A', 'B') will be removed.\n",
    "\n",
    "    Be sure to *copy* the input graph prior to removing edges.\n",
    "\n",
    "    Params:\n",
    "      graph.......a networkx Graph\n",
    "      test_node...a string representing one node in the graph whose\n",
    "                  edges will be removed.\n",
    "      n...........the number of edges to remove.\n",
    "\n",
    "    Returns:\n",
    "      A *new* networkx Graph with n edges removed.\n",
    "\n",
    "    In this doctest, we remove edges for two friends of D:\n",
    "    >>> g = example_graph()\n",
    "    >>> sorted(g.neighbors('D'))\n",
    "    ['B', 'E', 'F', 'G']\n",
    "    >>> train_graph = make_training_graph(g, 'D', 2)\n",
    "    >>> sorted(train_graph.neighbors('D'))\n",
    "    ['F', 'G']\n",
    "    \"\"\"\n",
    "    \n",
    "    cg = graph.copy()\n",
    "    \n",
    "    neighours = sorted(cg.neighbors(test_node))\n",
    "    for i in range(n):\n",
    "        cg.remove_edge(test_node,neighours[i])\n",
    "        \n",
    "    return cg"
   ]
  },
  {
   "cell_type": "code",
   "execution_count": 130,
   "metadata": {
    "collapsed": false
   },
   "outputs": [],
   "source": [
    "def jaccard(graph, node, k):\n",
    "    \"\"\"\n",
    "    Compute the k highest scoring edges to add to this node based on\n",
    "    the Jaccard similarity measure.\n",
    "    Note that we don't return scores for edges that already appear in the graph.\n",
    "\n",
    "    Params:\n",
    "      graph....a networkx graph\n",
    "      node.....a node in the graph (a string) to recommend links for.\n",
    "      k........the number of links to recommend.\n",
    "\n",
    "    Returns:\n",
    "      A list of tuples in descending order of score representing the\n",
    "      recommended new edges. Ties are broken by\n",
    "      alphabetical order of the terminal node in the edge.\n",
    "\n",
    "    In this example below, we remove edges (D, B) and (D, E) from the\n",
    "    example graph. The top two edges to add according to Jaccard are\n",
    "    (D, E), with score 0.5, and (D, A), with score 0. (Note that all the\n",
    "    other remaining edges have score 0, but 'A' is first alphabetically.)\n",
    "\n",
    "    >>> g = example_graph()\n",
    "    >>> train_graph = make_training_graph(g, 'D', 2)\n",
    "    >>> jaccard(train_graph, 'D', 2)\n",
    "    [(('D', 'E'), 0.5), (('D', 'A'), 0.0)]\n",
    "    \"\"\"\n",
    "    jac_scores = []\n",
    "    neighbors_node = set(graph.neighbors(node))\n",
    "    for n in graph.nodes():\n",
    "        if n != node and not graph.has_edge(node, n):\n",
    "            neighborsj = set(graph.neighbors(n))\n",
    "            score = 1. * (len(neighbors_node & neighborsj)) / (len(neighbors_node | neighborsj))\n",
    "            jac_scores.append(((node, n), score))\n",
    "    jac_scores = multi_sort(jac_scores)\n",
    "    \n",
    "    return jac_scores[:k]"
   ]
  },
  {
   "cell_type": "code",
   "execution_count": 131,
   "metadata": {
    "collapsed": true
   },
   "outputs": [],
   "source": [
    "def path_score(graph, root, k, beta, m):\n",
    "    \"\"\"\n",
    "    Compute a new link prediction scoring function based on the shortest\n",
    "    paths between two nodes, as defined above.\n",
    "\n",
    "    Note that we don't return scores for edges that already appear in the graph.\n",
    "\n",
    "    This algorithm should have the same time complexity as bfs above.\n",
    "\n",
    "    Params:\n",
    "      graph....a networkx graph\n",
    "      root.....a node in the graph (a string) to recommend links for.\n",
    "      k........the number of links to recommend.\n",
    "      beta.....the beta parameter in the equation above.\n",
    "      m........the m parameter in the equation above.\n",
    "\n",
    "    Returns:\n",
    "      A list of tuples in descending order of score. Ties are broken by\n",
    "      alphabetical order of the terminal node in the edge.\n",
    "\n",
    "    In this example below, we remove edge (D, F) from the\n",
    "    example graph. The top two edges to add according to path_score are\n",
    "    (D, F), with score 0.5, and (D, A), with score .25. (Note that (D, C)\n",
    "    is tied with a score of .25, but (D, A) is first alphabetically.)\n",
    "\n",
    "    >>> g = example_graph()\n",
    "    >>> train_graph = g.copy()\n",
    "    >>> train_graph.remove_edge(*('D', 'F'))\n",
    "    >>> path_score(train_graph, 'D', k=4, beta=.5, m=3)\n",
    "    [(('D', 'F'), 0.5), (('D', 'A'), 0.25), (('D', 'C'), 0.25)]\n",
    "    \"\"\"\n",
    "    ###TODO\n",
    "    node2distances, node2numpaths, node2parents = bfs(graph,root,m)\n",
    "    score =[]\n",
    "    \n",
    "    for node in set(graph.nodes()) - set(graph.neighbors(root)):\n",
    "        if node!=root:\n",
    "            score.append(((root,node),(beta **node2distances[node])*node2numpaths[node]))\n",
    "        \n",
    "    return multi_sort(score)[:k]\n",
    "    pass"
   ]
  },
  {
   "cell_type": "code",
   "execution_count": 132,
   "metadata": {
    "collapsed": false
   },
   "outputs": [],
   "source": [
    "def evaluate(predicted_edges, graph):\n",
    "    \"\"\"\n",
    "    Return the fraction of the predicted edges that exist in the graph.\n",
    "\n",
    "    Args:\n",
    "      predicted_edges...a list of edges (tuples) that are predicted to\n",
    "                        exist in this graph\n",
    "      graph.............a networkx Graph\n",
    "\n",
    "    Returns:\n",
    "      The fraction of edges in predicted_edges that exist in the graph.\n",
    "\n",
    "    In this doctest, the edge ('D', 'E') appears in the example_graph,\n",
    "    but ('D', 'A') does not, so 1/2 = 0.5\n",
    "\n",
    "    >>> evaluate([('D', 'E'), ('D', 'A')], example_graph())\n",
    "    0.5\n",
    "    \"\"\"\n",
    "    ###TODO\n",
    "    gp=[]\n",
    "    edges=graph.edges()\n",
    "    count  = 0\n",
    "    for i in predicted_edges:\n",
    "        if i in edges or i[::-1] in edges:\n",
    "            count = count +1\n",
    "        \n",
    "    return count*1./len(predicted_edges)"
   ]
  },
  {
   "cell_type": "code",
   "execution_count": 133,
   "metadata": {
    "collapsed": false
   },
   "outputs": [],
   "source": [
    "def download_data():\n",
    "    \"\"\"\n",
    "    Download the data. Done for you.\n",
    "    \"\"\"\n",
    "    urllib.request.urlretrieve('http://cs.iit.edu/~culotta/cs579/a1/edges.txt.gz', 'edges.txt.gz')\n"
   ]
  },
  {
   "cell_type": "code",
   "execution_count": 134,
   "metadata": {
    "collapsed": true
   },
   "outputs": [],
   "source": [
    "def read_graph():\n",
    "    \"\"\" Read 'edges.txt.gz' into a networkx **undirected** graph.\n",
    "    Done for you.\n",
    "    Returns:\n",
    "      A networkx undirected graph.\n",
    "    \"\"\"\n",
    "    return nx.read_edgelist('edges.txt.gz', delimiter='\\t')"
   ]
  },
  {
   "cell_type": "code",
   "execution_count": 135,
   "metadata": {
    "collapsed": false
   },
   "outputs": [
    {
     "name": "stdout",
     "output_type": "stream",
     "text": [
      "graph has 5062 nodes and 6060 edges\n",
      "subgraph has 712 nodes and 1710 edges\n",
      "norm_cut scores by max_depth:\n",
      "[(1, 1.0070175438596491), (2, 1.0005847953216374), (3, 0.12177725118483412), (4, 0.12177725118483412)]\n",
      "first partition: cluster 1 has 701 nodes and cluster 2 has 11 nodes\n",
      "cluster 2 nodes:\n",
      "['The Hunger Games', 'WordGirl', 'Clifford The Big Red Dog', 'Scholastic Parents', 'Scholastic Reading Club', 'Scholastic', 'Scholastic Canada', 'Scholastic Book Fairs', 'Arthur A. Levine Books', 'Scholastic Teachers', 'READ 180']\n",
      "train_graph has 712 nodes and 1705 edges\n",
      "\n",
      "top jaccard scores for Bill Gates:\n",
      "[(('Bill Gates', 'Global Citizen'), 0.16216216216216217), (('Bill Gates', 'Bill & Melinda Gates Foundation'), 0.10344827586206896), (('Bill Gates', 'Grand Challenges Canada'), 0.09375), (('Bill Gates', 'I fucking love science'), 0.09375), (('Bill Gates', 'Girl Effect'), 0.09090909090909091)]\n",
      "jaccard accuracy=0.2\n",
      "\n",
      "top path scores for Bill Gates for beta=.1:\n",
      "[(('Bill Gates', 'Bill & Melinda Gates Foundation'), 0.06000000000000001), (('Bill Gates', 'Global Citizen'), 0.06000000000000001), (('Bill Gates', 'Gavi, the Vaccine Alliance'), 0.04000000000000001), (('Bill Gates', 'FutureWeWant'), 0.030000000000000006), (('Bill Gates', 'Girl Effect'), 0.030000000000000006)]\n",
      "path accuracy for beta .1=0.4\n"
     ]
    }
   ],
   "source": [
    "def main():\n",
    "    \"\"\"\n",
    "    FYI: This takes ~10-15 seconds to run on my laptop.\n",
    "    \"\"\"\n",
    "    #download_data()\n",
    "    graph = read_graph()\n",
    "    print('graph has %d nodes and %d edges' %\n",
    "          (graph.order(), graph.number_of_edges()))\n",
    "    subgraph = get_subgraph(graph, 2)\n",
    "    print('subgraph has %d nodes and %d edges' %\n",
    "          (subgraph.order(), subgraph.number_of_edges()))\n",
    "    print('norm_cut scores by max_depth:')\n",
    "    print(score_max_depths(subgraph, range(1,5)))\n",
    "    clusters = partition_girvan_newman(subgraph, 3)\n",
    "    print('first partition: cluster 1 has %d nodes and cluster 2 has %d nodes' %\n",
    "          (clusters[0].order(), clusters[1].order()))\n",
    "    print('cluster 2 nodes:')\n",
    "    print(clusters[1].nodes())\n",
    "    \n",
    "    test_node = 'Bill Gates'\n",
    "    train_graph = make_training_graph(subgraph, test_node, 5)\n",
    "    print('train_graph has %d nodes and %d edges' %\n",
    "          (train_graph.order(), train_graph.number_of_edges()))\n",
    "\n",
    "\n",
    "    jaccard_scores = jaccard(train_graph, test_node, 5)\n",
    "    print('\\ntop jaccard scores for Bill Gates:')\n",
    "    print(jaccard_scores)\n",
    "    print('jaccard accuracy=%g' %\n",
    "          evaluate([x[0] for x in jaccard_scores], subgraph))\n",
    "\n",
    "    path_scores = path_score(train_graph, test_node, k=5, beta=.1, m=5)\n",
    "    print('\\ntop path scores for Bill Gates for beta=.1:')\n",
    "    print(path_scores)\n",
    "    print('path accuracy for beta .1=%g' %\n",
    "          evaluate([x[0] for x in path_scores], subgraph))\n",
    "\n",
    "\n",
    "if __name__ == '__main__':\n",
    "    main()\n"
   ]
  },
  {
   "cell_type": "code",
   "execution_count": null,
   "metadata": {
    "collapsed": true
   },
   "outputs": [],
   "source": []
  }
 ],
 "metadata": {
  "anaconda-cloud": {},
  "kernelspec": {
   "display_name": "Python [Root]",
   "language": "python",
   "name": "Python [Root]"
  },
  "language_info": {
   "codemirror_mode": {
    "name": "ipython",
    "version": 3
   },
   "file_extension": ".py",
   "mimetype": "text/x-python",
   "name": "python",
   "nbconvert_exporter": "python",
   "pygments_lexer": "ipython3",
   "version": "3.5.2"
  }
 },
 "nbformat": 4,
 "nbformat_minor": 0
}

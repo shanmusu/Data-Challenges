{
 "cells": [
  {
   "cell_type": "markdown",
   "metadata": {},
   "source": [
    "    Implementation of algorithm to find the length of Longest comman substring"
   ]
  },
  {
   "cell_type": "code",
   "execution_count": 25,
   "metadata": {},
   "outputs": [],
   "source": [
    "import numpy as np\n",
    "def longestCommanSubstring(s1,s2):\n",
    "    \"\"\"\n",
    "    It is solved using the concept of building a matrix which contain values in a diagonal manner if it contains a \n",
    "    longest substrig.\n",
    "    \"\"\"\n",
    "    #create a matix of size len(s1)+1 and len(s2)+1\n",
    "    rows=len(s1)\n",
    "    columns=len(s2)\n",
    "    \n",
    "    #edge case\n",
    "    if rows==0 or columns==0:\n",
    "        return 0\n",
    "    \n",
    "    #setup a matrix with zero's\n",
    "    mat=np.zeros((rows+1,columns+1))\n",
    "    \n",
    "    #calculate comman substring\n",
    "    for i in range(1,rows):\n",
    "        for j in range(1,columns):\n",
    "            if s1[i-1] ==s2[j-1]:\n",
    "                mat[i][j]=mat[i-1][j-1]+1\n",
    "            else:\n",
    "                mat[i][j]=0\n",
    "                 \n",
    "    l=0\n",
    "    for i in range(rows):\n",
    "        for j in range(columns):\n",
    "            if mat[i][j] >l:\n",
    "                l=mat[i][j]\n",
    "            \n",
    "    return l"
   ]
  },
  {
   "cell_type": "code",
   "execution_count": 26,
   "metadata": {},
   "outputs": [
    {
     "data": {
      "text/plain": [
       "4.0"
      ]
     },
     "execution_count": 26,
     "metadata": {},
     "output_type": "execute_result"
    }
   ],
   "source": [
    "S1='Pradeepraja mohan'\n",
    "S2='asdasdrajaaaa'\n",
    "longestCommanSubstring(S1,S2)"
   ]
  }
 ],
 "metadata": {
  "kernelspec": {
   "display_name": "Python 2",
   "language": "python",
   "name": "python2"
  },
  "language_info": {
   "codemirror_mode": {
    "name": "ipython",
    "version": 2
   },
   "file_extension": ".py",
   "mimetype": "text/x-python",
   "name": "python",
   "nbconvert_exporter": "python",
   "pygments_lexer": "ipython2",
   "version": "2.7.14"
  }
 },
 "nbformat": 4,
 "nbformat_minor": 2
}

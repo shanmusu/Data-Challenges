{
 "cells": [
  {
   "cell_type": "markdown",
   "metadata": {},
   "source": [
    "Tower of Hanoi :\n",
    "    This problem can be approched in a recursive way to move the blocks from the start to destination using a temporary auxilary rod.\n",
    "It consist of 3 main rules:\n",
    "    1. Only the top most plate can be moved\n",
    "    2. Plates can be arranged only based on the size.\n",
    "    3. Only one disc can be moved at a time.\n",
    "\n",
    "Solution:\n",
    "    1. move the n-1 number of disc to temporary rod.\n",
    "    2. move the last disc to destinatin rod\n",
    "    3. Move the n-1 disc back to the destination rod\n",
    " \n",
    "    "
   ]
  },
  {
   "cell_type": "code",
   "execution_count": 2,
   "metadata": {},
   "outputs": [],
   "source": [
    "def TOH(n,start, end , temp):\n",
    "    if n ==1:\n",
    "        print \"Move Disk 1 from %s to %s\"%(start,end)\n",
    "        return\n",
    "    TOH(n-1,start, temp, end)\n",
    "    print \"Move disk %d from %s to %s\"%(n,start, end)\n",
    "    TOH(n-1,temp, end , start)"
   ]
  },
  {
   "cell_type": "code",
   "execution_count": 3,
   "metadata": {},
   "outputs": [
    {
     "name": "stdout",
     "output_type": "stream",
     "text": [
      "Move Disk 1 from A to C\n",
      "Move disk 2 from A to B\n",
      "Move Disk 1 from C to B\n",
      "Move disk 3 from A to C\n",
      "Move Disk 1 from B to A\n",
      "Move disk 2 from B to C\n",
      "Move Disk 1 from A to C\n"
     ]
    }
   ],
   "source": [
    "n = 3\n",
    "TOH(n, 'A', 'C', 'B') "
   ]
  },
  {
   "cell_type": "code",
   "execution_count": null,
   "metadata": {},
   "outputs": [],
   "source": []
  }
 ],
 "metadata": {
  "kernelspec": {
   "display_name": "Python 2",
   "language": "python",
   "name": "python2"
  },
  "language_info": {
   "codemirror_mode": {
    "name": "ipython",
    "version": 2
   },
   "file_extension": ".py",
   "mimetype": "text/x-python",
   "name": "python",
   "nbconvert_exporter": "python",
   "pygments_lexer": "ipython2",
   "version": "2.7.14"
  }
 },
 "nbformat": 4,
 "nbformat_minor": 2
}

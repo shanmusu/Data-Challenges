{
 "cells": [
  {
   "cell_type": "code",
   "execution_count": null,
   "metadata": {},
   "outputs": [],
   "source": []
  },
  {
   "cell_type": "code",
   "execution_count": 3,
   "metadata": {},
   "outputs": [
    {
     "name": "stdout",
     "output_type": "stream",
     "text": [
      "4\n",
      "add a\n"
     ]
    },
    {
     "ename": "SyntaxError",
     "evalue": "unexpected EOF while parsing (<string>, line 1)",
     "output_type": "error",
     "traceback": [
      "\u001b[1;36m  File \u001b[1;32m\"<string>\"\u001b[1;36m, line \u001b[1;32m1\u001b[0m\n\u001b[1;33m    add a\u001b[0m\n\u001b[1;37m        ^\u001b[0m\n\u001b[1;31mSyntaxError\u001b[0m\u001b[1;31m:\u001b[0m unexpected EOF while parsing\n"
     ]
    }
   ],
   "source": [
    "from collections import Counter\n",
    "dic=Counter()\n",
    "n = int(input())\n",
    "for a0 in range(n):\n",
    "    op, contact = input().strip().split(' ')\n",
    "    if op=='add':\n",
    "        dic[contact]+=1   \n",
    "    if op=='find':\n",
    "        count =0\n",
    "        to_find_len=len(contact)\n",
    "        for each_contact in range(len(dic)):\n",
    "            t=0\n",
    "            print (dic.elements())\n",
    "            for i,j in zip(contact ,dic.elements()):\n",
    "                if i==j:\n",
    "                    t+=1\n",
    "                else:\n",
    "                    break\n",
    "                if (t==to_find_len):\n",
    "                    count+=1\n",
    "        print (count)\n",
    "                "
   ]
  },
  {
   "cell_type": "code",
   "execution_count": 4,
   "metadata": {},
   "outputs": [
    {
     "name": "stdout",
     "output_type": "stream",
     "text": [
      "4\n",
      "add asd\n",
      "add ass\n",
      "find asd\n",
      "1\n",
      "find as\n",
      "2\n"
     ]
    }
   ],
   "source": [
    "n = int(raw_input().strip())\n",
    "dic=[]\n",
    "for a0 in xrange(n):\n",
    "    op, contact = raw_input().strip().split(' ')\n",
    "    if op=='add':\n",
    "        dic.append(contact)    \n",
    "    if op=='find':\n",
    "        count =0\n",
    "        to_find_len=len(contact)\n",
    "        for each_contact in range(len(dic)):\n",
    "            t=0\n",
    "            for i,j in zip(contact,dic[each_contact]):\n",
    "                if i==j:\n",
    "                    t+=1\n",
    "                else:\n",
    "                    break\n",
    "                if (t==to_find_len):\n",
    "                    count+=1\n",
    "        print count\n",
    "                "
   ]
  },
  {
   "cell_type": "code",
   "execution_count": null,
   "metadata": {},
   "outputs": [],
   "source": [
    "contact={}\n",
    "#it return o esle the value n dict\n",
    " contact_indices.get(token, 0) + 1"
   ]
  }
 ],
 "metadata": {
  "kernelspec": {
   "display_name": "Python 2",
   "language": "python",
   "name": "python2"
  },
  "language_info": {
   "codemirror_mode": {
    "name": "ipython",
    "version": 2
   },
   "file_extension": ".py",
   "mimetype": "text/x-python",
   "name": "python",
   "nbconvert_exporter": "python",
   "pygments_lexer": "ipython2",
   "version": "2.7.14"
  }
 },
 "nbformat": 4,
 "nbformat_minor": 2
}

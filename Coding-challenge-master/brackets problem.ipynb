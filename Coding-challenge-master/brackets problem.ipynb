{
 "cells": [
  {
   "cell_type": "raw",
   "metadata": {},
   "source": [
    "The string {[()]} meets both criteria for being a balanced string, so we print YES on a new line.\n",
    "The string {[(])} is not balanced, because the brackets enclosed by the matched pairs [(] and (]) are not balanced. Thus, we print NO on a new line.\n",
    "The string {{[[(())]]}} meets both criteria for being a balanced string, so we print YES on a new line.\n",
    "3\n",
    "{[()]}\n",
    "{[(])}\n",
    "{{[[(())]]}}\n",
    "Sample Output\n",
    "\n",
    "YES\n",
    "NO\n",
    "YES\n",
    "Explanation\n"
   ]
  },
  {
   "cell_type": "code",
   "execution_count": 13,
   "metadata": {},
   "outputs": [],
   "source": [
    "a=\"[{}[{({})}()]][{}]([()])[]()()[{({[[({[{()}]})][{}{}{}[{}]][][(){}]][]}{}[]()(([]){}()())())([()[()]{{}[](([()]({{[{()[]()}{({}[](()()){})[]}[]]}}([[]])([()]{}))[{{}{}}[([{[{}]}])[]](()([]))][]))}([])]())}]{[]{{([[{(([((([])))]))[]}][{(()())()([{}[{}][][]][[][(())()[{[{[]}]{{{}}}(({[]}){}[(()[])({}{[][([{}])[{[[]{}]}]{{({}[[]({[{}]})]{})}()}]{{{{}}}{[][([])[{[[[]]{{}({([][][]{}())}[]{[]})([[]][{}([{()[()]}([([]{})()]){}])][][{}()])(({}){[]{}})}([{}[{([{[[]{}{}]{()}{}{}}[[(()[]{})[(([[][]](([][]){{}({{}([]){}}[]([()()[(((){}){()[{}][{}]})]]){}(){}{{(){}}()})}{{}({[[]]})})))]]]])}]])]}]]}}})])}]]])}]])}}}\""
   ]
  },
  {
   "cell_type": "code",
   "execution_count": 18,
   "metadata": {},
   "outputs": [],
   "source": [
    "def is_matched(expression):\n",
    "    pass\n",
    "    l=len(expression)\n",
    "    if l%2 != 0:\n",
    "        return False\n",
    "    dic = {'{' : '}', '[' : ']', '(' : ')'}\n",
    "    ls = []\n",
    "    for chars in expression:\n",
    "        if chars in dic:\n",
    "            ls.append(dic[chars])\n",
    "        elif not ls or chars != ls.pop():\n",
    "            return False\n",
    "    return not ls"
   ]
  },
  {
   "cell_type": "code",
   "execution_count": 19,
   "metadata": {},
   "outputs": [
    {
     "data": {
      "text/plain": [
       "True"
      ]
     },
     "execution_count": 19,
     "metadata": {},
     "output_type": "execute_result"
    }
   ],
   "source": [
    "is_matched(a.strip())"
   ]
  },
  {
   "cell_type": "code",
   "execution_count": 20,
   "metadata": {},
   "outputs": [
    {
     "data": {
      "text/plain": [
       "True"
      ]
     },
     "execution_count": 20,
     "metadata": {},
     "output_type": "execute_result"
    }
   ],
   "source": [
    "not []"
   ]
  },
  {
   "cell_type": "code",
   "execution_count": 21,
   "metadata": {},
   "outputs": [
    {
     "data": {
      "text/plain": [
       "False"
      ]
     },
     "execution_count": 21,
     "metadata": {},
     "output_type": "execute_result"
    }
   ],
   "source": [
    "not [1]"
   ]
  },
  {
   "cell_type": "code",
   "execution_count": null,
   "metadata": {},
   "outputs": [],
   "source": []
  }
 ],
 "metadata": {
  "kernelspec": {
   "display_name": "Python 2",
   "language": "python",
   "name": "python2"
  },
  "language_info": {
   "codemirror_mode": {
    "name": "ipython",
    "version": 2
   },
   "file_extension": ".py",
   "mimetype": "text/x-python",
   "name": "python",
   "nbconvert_exporter": "python",
   "pygments_lexer": "ipython2",
   "version": "2.7.14"
  }
 },
 "nbformat": 4,
 "nbformat_minor": 2
}

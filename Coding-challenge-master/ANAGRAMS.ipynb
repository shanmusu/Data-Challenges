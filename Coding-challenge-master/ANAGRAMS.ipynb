{
 "cells": [
  {
   "cell_type": "markdown",
   "metadata": {},
   "source": [
    "\n",
    "We consider two strings to be anagrams of each other if the first string's letters can be rearranged to form the second string. In other words, both strings must contain the same exact letters in the same exact frequency For example, bacdc and dcbac are anagrams, but bacdc and dcbad are not.\n",
    "\n",
    "Sample Input\n",
    "\n",
    "cde\n",
    "abc\n",
    "\n",
    "Sample Output\n",
    "\n",
    "4"
   ]
  },
  {
   "cell_type": "code",
   "execution_count": 133,
   "metadata": {},
   "outputs": [],
   "source": [
    "def number_needed(a, b):\n",
    "    pass\n",
    "    dic={}\n",
    "    if (len(a) and len(b)) >0:\n",
    "        for i in range(len(a)):\n",
    "            if a[i] not in dic:\n",
    "                dic[a[i]]=1\n",
    "            else:\n",
    "                dic[a[i]]=dic[a[i]]+1\n",
    "        for i in range(len((b))):\n",
    "            if b[i] not in dic:\n",
    "                #Critical part is setting up -ve value in dict for second string because we do negative summation for count in 2nd string\n",
    "                dic[b[i]]=-1\n",
    "            else:\n",
    "                dic[b[i]]=dic[b[i]]-1\n",
    "        sum=0\n",
    "        for i in dic.keys():\n",
    "            sum += abs(dic[i])\n",
    "        return sum\n",
    "    else:\n",
    "        return 0"
   ]
  },
  {
   "cell_type": "code",
   "execution_count": 135,
   "metadata": {},
   "outputs": [
    {
     "data": {
      "text/plain": [
       "6"
      ]
     },
     "execution_count": 135,
     "metadata": {},
     "output_type": "execute_result"
    }
   ],
   "source": [
    "a = \"adc\"\n",
    "b = \"ceghh\"\n",
    "number_needed(a, b)"
   ]
  },
  {
   "cell_type": "code",
   "execution_count": null,
   "metadata": {},
   "outputs": [],
   "source": []
  }
 ],
 "metadata": {
  "kernelspec": {
   "display_name": "Python 2",
   "language": "python",
   "name": "python2"
  },
  "language_info": {
   "codemirror_mode": {
    "name": "ipython",
    "version": 2
   },
   "file_extension": ".py",
   "mimetype": "text/x-python",
   "name": "python",
   "nbconvert_exporter": "python",
   "pygments_lexer": "ipython2",
   "version": "2.7.14"
  }
 },
 "nbformat": 4,
 "nbformat_minor": 2
}
